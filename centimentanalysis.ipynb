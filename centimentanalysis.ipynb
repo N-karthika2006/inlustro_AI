{
 "cells": [
  {
   "cell_type": "code",
   "execution_count": null,
   "id": "c626a573",
   "metadata": {},
   "outputs": [],
   "source": [
    "#import necessary libraries\n",
    "import nltk\n",
    "from nltk.corpus import stopwords\n",
    "from nltk.tokenize import word_tokenize\n",
    "from nltk.stem import porterStemmer,WordNetLemmatizer\n",
    "from textlob import textBlob\n",
    "\n"
   ]
  },
  {
   "cell_type": "code",
   "execution_count": null,
   "id": "c4f1ea92",
   "metadata": {},
   "outputs": [],
   "source": [
    "# Download required nltk packages(only neede for first time)\n",
    "nltk.download('punkt')\n",
    "nltk.download('stopwords')\n",
    "nltk.download('average_perceptron_tagger')\n",
    "nltk.download('wordent')"
   ]
  },
  {
   "cell_type": "code",
   "execution_count": null,
   "id": "94ce22b1",
   "metadata": {},
   "outputs": [],
   "source": [
    "# Example text\n",
    "text=\"The product is not good\""
   ]
  },
  {
   "cell_type": "code",
   "execution_count": null,
   "id": "d7bc80c3",
   "metadata": {},
   "outputs": [],
   "source": [
    "#step 1: Tokenization (splitting the text into words)\n",
    "tokens=word_tokenize(text)\n",
    "print(\"tokens:\",tokens)\n"
   ]
  },
  {
   "cell_type": "code",
   "execution_count": null,
   "id": "ba186f61",
   "metadata": {},
   "outputs": [],
   "source": [
    "#step 2: Remove stopwords (filter out common,non-essential words)\n",
    "stop_words=set(stopwords.word('english'))\n",
    "filtered_tokens=[word for word in tokens if words .lower() not in step_words]\n",
    "print(\"filtered tokens:\",filtered_tokens)\n"
   ]
  },
  {
   "cell_type": "code",
   "execution_count": null,
   "id": "1e5bbabe",
   "metadata": {},
   "outputs": [],
   "source": [
    "#step 3: Stemming (reduce words to their root )\n",
    "ps = porterStemmer()\n",
    "stemmed_tokens = [ps.stem(word)for word in filtered_tokens]\n",
    "print(\"Stemmed Tokens:\", stemmed_tokens)\n"
   ]
  },
  {
   "cell_type": "code",
   "execution_count": null,
   "id": "d59f2fc4",
   "metadata": {},
   "outputs": [],
   "source": [
    "# step 4: lemmatization(reduce words to their base from considering the contex)\n",
    "lemmatizer_tokens=[lemmatizatizer.lemmatized_tokens]\n"
   ]
  },
  {
   "cell_type": "code",
   "execution_count": null,
   "id": "644eb408",
   "metadata": {},
   "outputs": [],
   "source": []
  }
 ],
 "metadata": {
  "kernelspec": {
   "display_name": "Python 3 (ipykernel)",
   "language": "python",
   "name": "python3"
  },
  "language_info": {
   "codemirror_mode": {
    "name": "ipython",
    "version": 3
   },
   "file_extension": ".py",
   "mimetype": "text/x-python",
   "name": "python",
   "nbconvert_exporter": "python",
   "pygments_lexer": "ipython3",
   "version": "3.10.9"
  }
 },
 "nbformat": 4,
 "nbformat_minor": 5
}
